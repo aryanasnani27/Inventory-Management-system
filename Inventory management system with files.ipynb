{
 "cells": [
  {
   "cell_type": "code",
   "execution_count": 17,
   "id": "2583561e-737d-473c-9b4f-e37fe9ae5351",
   "metadata": {},
   "outputs": [],
   "source": [
    "fd=open('inventory.txt','w')\n",
    "fd.close()"
   ]
  },
  {
   "cell_type": "code",
   "execution_count": 10,
   "id": "e9152b69-1373-464e-917e-1306fc8f23c5",
   "metadata": {},
   "outputs": [],
   "source": []
  },
  {
   "cell_type": "markdown",
   "id": "097c0ea7-dbe6-44b0-8959-dc308b9dacbe",
   "metadata": {},
   "source": [
    "## Products\n",
    "1. Product Id\n",
    "2. Name of Product\n",
    "3. Price of Product\n",
    "4. Quantity"
   ]
  },
  {
   "cell_type": "code",
   "execution_count": 16,
   "id": "6fa8c7b1-fadf-4593-aab1-a4ba939d258b",
   "metadata": {},
   "outputs": [
    {
     "name": "stdout",
     "output_type": "stream",
     "text": [
      "1,5 star,5,982,MilkyBar,5,1003,Cake,5,3004,Candy,1,100\n"
     ]
    }
   ],
   "source": [
    "for i in products:\n",
    "    print(i)"
   ]
  },
  {
   "cell_type": "code",
   "execution_count": 6,
   "id": "a446cb39-1342-4040-950b-003d1a3f4e7b",
   "metadata": {},
   "outputs": [
    {
     "name": "stdin",
     "output_type": "stream",
     "text": [
      "Enter your name:     manish\n",
      "Enter your Phone No:     22222222\n",
      "Enter your email:       acydgiydgiqg@gmail.com\n",
      "Enter Product Id:   2\n",
      "Enter Product Qn:   1\n"
     ]
    },
    {
     "name": "stdout",
     "output_type": "stream",
     "text": [
      "------------------------------\n",
      "Name of Product:      MilkyBar\n",
      "Price of Product:    5\n",
      "Quantity of Product:  1\n",
      "------------------------------\n",
      "Billing Amount:      5\n",
      "------------------------------\n",
      "---------------------\n",
      "Inventory updated\n"
     ]
    }
   ],
   "source": [
    "import time\n",
    "# Reading the inventory\n",
    "fd=open('inventory.txt','r')\n",
    "products=fd.read().split('\\n')\n",
    "fd.close()\n",
    "\n",
    "# Takig user input\n",
    "ui_username=input(\"Enter your name:    \")\n",
    "ui_phone=input(\"Enter your Phone No:    \")\n",
    "ui_email=input(\"Enter your email:      \")\n",
    "ui_prod_id=input(\"Enter Product Id:  \")\n",
    "ui_prod_qn=input(\"Enter Product Qn:  \")\n",
    "\n",
    "updated_product_lst=[]\n",
    "\n",
    "# Going through each product detail\n",
    "for product in products:\n",
    "    prod_details=product.split(',')\n",
    "    \n",
    "    if(prod_details[0]==ui_prod_id):\n",
    "        # checking if product exists or not\n",
    "        \n",
    "        if (int(ui_prod_qn) <= int(prod_details[3])):\n",
    "            # if we are having enough quantity    \n",
    "            print('-'*30)\n",
    "            print(\"Name of Product:     \",prod_details[1])\n",
    "            print(\"Price of Product:   \",prod_details[2])\n",
    "            print(\"Quantity of Product: \",ui_prod_qn)\n",
    "            print('-'*30)\n",
    "            print(\"Billing Amount:     \",int(ui_prod_qn)*int(prod_details[2]))\n",
    "            print('-'*30)\n",
    "\n",
    "            # updating inventory lst\n",
    "            prod_details[3]=str(int(prod_details[3]) - int(ui_prod_qn))\n",
    "\n",
    "            fd=open('Sailfile.txt','a')\n",
    "            sale_detail= ui_username +\",\"+ ui_phone + \",\" + ui_email+\",\"+prod_details[1]+\",\"+ui_prod_id+\",\"+ ui_prod_qn +\",\"+ str(int(ui_prod_qn)*int(prod_details[2]))+\",\"+time.ctime()+\"\\n\"\n",
    "            fd.write(sale_detail)\n",
    "            fd.close()\n",
    "        else:\n",
    "            # if we are not having enough quantity\n",
    "            print(\"Sorry , We're not having enough quantity\")\n",
    "            print(\"We are having only\",prod_details[3],'quantity')\n",
    "            print(\"Would you like to purachase\")\n",
    "            \n",
    "            ch=input(\"Press Y/N\")\n",
    "            \n",
    "            if(ch=='Y' or ch=='y'):\n",
    "                # if you want to purchase with enough quantity\n",
    "                print('-'*30)\n",
    "                print(\"Name of Product:     \",prod_details[1])\n",
    "                print(\"Price of Product:   \",prod_details[2])\n",
    "                print(\"Quantity of Product: \",prod_details[3])\n",
    "                print('-'*30)\n",
    "                print(\"Billing Amount:     \",int(prod_details[3])*int(prod_details[2]))\n",
    "                print('-'*30)\n",
    "            \n",
    "                prod_details[3]='0'\n",
    "            else:\n",
    "                print(\"Thanks\")\n",
    "                \n",
    "    # updating my inventory list\n",
    "    updated_product_lst.append(prod_details)\n",
    "lst=[]\n",
    "# updating my inventory my inventory string\n",
    "for i in updated_product_lst:\n",
    "    prod=i[0]+\",\"+i[1]+\",\"+i[2]+\",\"+i[3]+\"\\n\"\n",
    "    lst.append(prod)\n",
    "lst[-1]=lst[-1][:-1]\n",
    "\n",
    "# updating inventory file\n",
    "fd=open('inventory.txt','w') \n",
    "for i in lst:\n",
    "    fd.write(i)\n",
    "fd.close()\n",
    "\n",
    "print('---------------------')\n",
    "print(\"Inventory updated\")"
   ]
  },
  {
   "cell_type": "code",
   "execution_count": null,
   "id": "f4f58d3f-490b-4b3c-ab3a-79fbad926a26",
   "metadata": {},
   "outputs": [],
   "source": []
  }
 ],
 "metadata": {
  "kernelspec": {
   "display_name": "Python 3 (ipykernel)",
   "language": "python",
   "name": "python3"
  },
  "language_info": {
   "codemirror_mode": {
    "name": "ipython",
    "version": 3
   },
   "file_extension": ".py",
   "mimetype": "text/x-python",
   "name": "python",
   "nbconvert_exporter": "python",
   "pygments_lexer": "ipython3",
   "version": "3.11.7"
  }
 },
 "nbformat": 4,
 "nbformat_minor": 5
}
