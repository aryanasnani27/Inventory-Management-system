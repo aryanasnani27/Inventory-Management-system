{
 "cells": [
  {
   "cell_type": "code",
   "execution_count": 9,
   "id": "f0c5033f-473f-4a34-9954-61499c03172e",
   "metadata": {
    "scrolled": true
   },
   "outputs": [
    {
     "name": "stdout",
     "output_type": "stream",
     "text": [
      "---------------------Menu---------------------------\n",
      "\n",
      "1001 : 5 Star \t 10 \t 140\n",
      "1002 : Bar-One \t 20 \t 98\n",
      "1003 : Candy \t 2 \t 948\n",
      "1004 : Chocolate Cake \t 550 \t 6\n",
      "1005 : BlueBerry \t 650 \t 5\n",
      "---------------------------------------------------\n",
      "\n"
     ]
    },
    {
     "name": "stdin",
     "output_type": "stream",
     "text": [
      "Enter the name  : Amar\n",
      "Enter the mail Id : amar@gmail.com\n",
      "Enter the phonr number : 12245646\n",
      "Enter the Product ID:  1003\n",
      "Enter the Quantity:    1\n"
     ]
    },
    {
     "name": "stdout",
     "output_type": "stream",
     "text": [
      "---------------------------------------------------\n",
      "                    Bill                               \n",
      "Name of Product        : Candy\n",
      "Price of Product (Rs) : 2 Rs\n",
      "Quantity of Product   : 947\n",
      "---------------------------------------------------\n",
      "Billing Amount         :  2 Rs\n",
      "--------------------------------------------------\n",
      "\n",
      "------------------------\n",
      "Thanks for your order, inventory updated\n",
      "------------------------\n"
     ]
    }
   ],
   "source": [
    "# Importing libraries\n",
    "import json\n",
    "import time\n",
    "\n",
    "sales=''\n",
    "# Loading the inventory records from Json to string\n",
    "fd=open('Record.json','r')\n",
    "js=fd.read()\n",
    "fd.close()\n",
    "# Converting string record in Json\n",
    "record = json.loads(js)\n",
    "\n",
    "# Displaying the menu\n",
    "print('---------------------Menu---------------------------\\n')\n",
    "for key in record.keys():\n",
    "    print(key,\":\",record[key]['Name'],\"\\t\",record[key]['Price'],\"\\t\",record[key]['Qn'])\n",
    "print(\"---------------------------------------------------\\n\")\n",
    "\n",
    "# Taking user inputs about the purchase and userr details\n",
    "ui_name=str(input(\"Enter the name  :\"))\n",
    "ui_mail=str(input(\"Enter the mail Id :\"))\n",
    "ui_ph=str(input(\"Enter the phonr number :\"))\n",
    "ui_pr = str(input(\"Enter the Product ID: \"))\n",
    "ui_qn = int(input(\"Enter the Quantity:   \"))\n",
    "\n",
    "# If we are having equal or more input\n",
    "if (record[ui_pr]['Qn'] >= ui_qn):\n",
    "\n",
    "    # updating the records\n",
    "    record[ui_pr]['Qn'] = record[ui_pr]['Qn']-ui_qn \n",
    "    print(\"---------------------------------------------------\")\n",
    "    print(\"                    Bill                               \")\n",
    "    print(\"Name of Product        :\" ,record[ui_pr]['Name'])\n",
    "    print(\"Price of Product (Rs) :\" ,record[ui_pr]['Price'],'Rs')\n",
    "    print(\"Quantity of Product   :\"  ,record[ui_pr]['Qn'])\n",
    "    print(\"---------------------------------------------------\")\n",
    "    print(\"Billing Amount         : \"  , record[ui_pr]['Price'] * ui_qn ,'Rs')\n",
    "    print(\"--------------------------------------------------\")\n",
    "\n",
    "    # Generating sales structure in csv\n",
    "    sales=ui_name+\",\"+ui_mail+\",\"+ui_ph+\",\"+ui_pr+\",\"+record[ui_pr][\"Name\"]+\",\"+str(ui_qn)+\",\"+str(record[ui_pr][\"Price\"])+\",\"+str(ui_qn*record[ui_pr][\"Price\"])+\",\"+time.ctime()+\"\\n\"\n",
    "\n",
    "# If we are not having equal or more input\n",
    "else:\n",
    "    print(\"Sorry we are not having enough Quantity in our Inventory\")\n",
    "    print(\"We're only having\",record[ui_pr][\"Qn\"], 'quantity')\n",
    "    print(\"--------------------------------------------------\")\n",
    "    print(\"Press Y/y to purchase\")\n",
    "    ch = str(input(\"Press Y/y to purchase: \"))\n",
    "    # IF user wants to puravhse the whole quatity for that product\n",
    "    if (ch== \"Y\" or ch == 'y'):\n",
    "        print(\"---------------------------------------------------\")\n",
    "        print(\"                    Bill                               \")\n",
    "    \n",
    "        print(\"Name of Product        :\" ,record[ui_pr]['Name'])\n",
    "        print(\"Price of Product (Rs) :\" ,record[ui_pr]['Price'],'Rs')\n",
    "        print(\"Quantity of Product   :\"  ,record[ui_pr])\n",
    "        print(\"---------------------------------------------------\")\n",
    "        print(\"Billing Amount         : \"  , record[ui_pr]['Price'] * record[ui_pr]['Qn'],'Rs')\n",
    "        print(\"--------------------------------------------------\")\n",
    "        record[ui_pr]['Qn']=0\n",
    "        sales=ui_name+\",\"+ui_mail+\",\"+ui_ph+\",\"+ui_pr+\",\"+record[ui_pr][\"Name\"]+\",\"+str(record[ui_pr][\"Qn\"])+\",\"+str(record[ui_pr][\"Price\"])+\",\"+str(record[ui_pr][\"Qn\"]*record[ui_pr][\"Price\"])+\",\"+time.ctime()+\"\\n\"\n",
    "    else:\n",
    "        print(\"Thank you\")\n",
    "\n",
    "\n",
    "# Converting dict to string\n",
    "js=json.dumps(record)\n",
    "\n",
    "# Saving recors in json file\n",
    "fd=open('Record.json','w')\n",
    "fd.write(js)\n",
    "fd.close()\n",
    "\n",
    "# Saving records from sales file\n",
    "fd=open('sale.txt','a')\n",
    "fd.write(sales)\n",
    "fd.close()\n",
    "\n",
    "print('')\n",
    "print('------------------------')\n",
    "print('Thanks for your order, inventory updated')\n",
    "print('------------------------')"
   ]
  },
  {
   "cell_type": "code",
   "execution_count": 7,
   "id": "34329cb1-9d02-40af-b53c-2e5c0772f22a",
   "metadata": {},
   "outputs": [
    {
     "data": {
      "text/plain": [
       "{'1001': {'Name': '5 Star', 'Price': 10, 'Qn': 144},\n",
       " '1002': {'Name': 'Bar-One', 'Price': 20, 'Qn': 0},\n",
       " '1003': {'Name': 'Candy', 'Price': 2, 'Qn': 950},\n",
       " '1004': {'Name': 'Chocolate Cake', 'Price': 550, 'Qn': 6},\n",
       " '1005': {'Name': 'BlueBerry', 'Price': 650, 'Qn': 5}}"
      ]
     },
     "execution_count": 7,
     "metadata": {},
     "output_type": "execute_result"
    }
   ],
   "source": [
    "record"
   ]
  },
  {
   "cell_type": "code",
   "execution_count": 17,
   "id": "2a49ecd7-e9a1-466a-ba27-bee53593904c",
   "metadata": {},
   "outputs": [],
   "source": [
    "sales='1'+\",\"+ui_name+\",\"+ui_mail+\",\"+ui_ph+\",\"+ui_pr+\",\"+record[ui_pr][\"Name\"]+\",\"+str(record[ui_pr][\"Qn\"])+\",\"+str(record[ui_pr][\"Price\"])+\",\"+str(record[ui_pr][\"Qn\"]*record[ui_pr][\"Price\"])+\",\"+time.ctime()"
   ]
  },
  {
   "cell_type": "code",
   "execution_count": 14,
   "id": "96209210-0c91-4da6-a362-6e27a79b31d7",
   "metadata": {},
   "outputs": [],
   "source": [
    "import time "
   ]
  },
  {
   "cell_type": "code",
   "execution_count": 15,
   "id": "2aeb245f-b7ff-4465-badd-c81eb865ac5b",
   "metadata": {},
   "outputs": [
    {
     "data": {
      "text/plain": [
       "'Tue Jun  4 00:58:17 2024'"
      ]
     },
     "execution_count": 15,
     "metadata": {},
     "output_type": "execute_result"
    }
   ],
   "source": [
    "time.ctime()"
   ]
  },
  {
   "cell_type": "code",
   "execution_count": 2,
   "id": "b43e19e3-ba4b-4a55-b8b1-8e2e2469acf5",
   "metadata": {
    "scrolled": true
   },
   "outputs": [
    {
     "data": {
      "text/plain": [
       "'1,1001,Aman,aman@gmail.com,1001,5 Star,1,10,10,Tue Jun  4 16:33:17 2024'"
      ]
     },
     "execution_count": 2,
     "metadata": {},
     "output_type": "execute_result"
    }
   ],
   "source": [
    "sales"
   ]
  },
  {
   "cell_type": "code",
   "execution_count": null,
   "id": "1291aee0-f18a-4815-929d-f9bd502aa00b",
   "metadata": {},
   "outputs": [],
   "source": [
    "dct={\n",
    "    \n",
    "    100:{'Name':'cgg'},\n",
    "    101:{'Not ava'},\n",
    "    102:{'Roll}\n",
    "}"
   ]
  }
 ],
 "metadata": {
  "kernelspec": {
   "display_name": "Python 3 (ipykernel)",
   "language": "python",
   "name": "python3"
  },
  "language_info": {
   "codemirror_mode": {
    "name": "ipython",
    "version": 3
   },
   "file_extension": ".py",
   "mimetype": "text/x-python",
   "name": "python",
   "nbconvert_exporter": "python",
   "pygments_lexer": "ipython3",
   "version": "3.11.7"
  }
 },
 "nbformat": 4,
 "nbformat_minor": 5
}
